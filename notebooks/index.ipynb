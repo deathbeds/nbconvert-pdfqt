{
 "cells": [
  {
   "cell_type": "markdown",
   "metadata": {},
   "source": [
    "# [nbconvert-pdfqt](https://github.com/deathbeds/nbconvert-pdfqt)\n",
    "\n",
    "Run that cell 👇, then check out 👉 [Examples.pdf](./Examples.pdf).\n",
    "\n",
    "> _If you aren't running on Linux with `xvfb` installed (e.g. not on Binder), remove `xvfb-run`_\n",
    "> \n",
    "> _If you (don't) like what you see, chime in on the discussion over at [jupyter/nbconvert#1031](https://github.com/jupyter/nbconvert/issues/1031)!_"
   ]
  },
  {
   "cell_type": "code",
   "execution_count": null,
   "metadata": {},
   "outputs": [],
   "source": [
    "!xvfb-run jupyter nbconvert --to pdfqt Examples.ipynb"
   ]
  }
 ],
 "metadata": {
  "kernelspec": {
   "display_name": "Python 3",
   "language": "python",
   "name": "python3"
  },
  "language_info": {
   "codemirror_mode": {
    "name": "ipython",
    "version": 3
   },
   "file_extension": ".py",
   "mimetype": "text/x-python",
   "name": "python",
   "nbconvert_exporter": "python",
   "pygments_lexer": "ipython3",
   "version": "3.7.3"
  }
 },
 "nbformat": 4,
 "nbformat_minor": 2
}
